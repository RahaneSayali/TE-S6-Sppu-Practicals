{
 "cells": [
  {
   "cell_type": "markdown",
   "metadata": {},
   "source": [
    "Data Wrangling II\n",
    "Create an “Academic performance” dataset of students and perform the following operations using \n",
    "Python.\n",
    "1. Scan all variables for missing values and inconsistencies. If there are missing values and/or \n",
    "inconsistencies, use any of the suitable techniques to deal with them. \n",
    "2. Scan all numeric variables for outliers. If there are outliers, use any of the suitable \n",
    "techniques to deal with them. \n",
    "3. Apply data transformations on at least one of the variables. The purpose of this \n",
    "transformation should be one of the following reasons: to change the scale for better \n",
    "understanding of the variable, to convert a non-linear relation into a linear one, or to \n",
    "decrease the skewness and convert the distribution into a normal distribution. \n",
    "Reason and document your approach properly"
   ]
  },
  {
   "cell_type": "code",
   "execution_count": 2,
   "metadata": {},
   "outputs": [
    {
     "name": "stdout",
     "output_type": "stream",
     "text": [
      "    Roll Nationality    WT    AI  DSBDA        AVG GRADE   PG\n",
      "0      1       INDIA  72.0  72.0   74.0  72.666667     A  YES\n",
      "1      2       JAPAN  70.0  69.0   40.0  59.666667     B  YES\n",
      "2      3       INDIA   NaN  40.0   60.0  50.000000     C   NO\n",
      "3      4          US  50.0  30.0    NaN  40.000000     D  YES\n",
      "4      5          UK  51.0  52.0   53.0  52.000000     C   NO\n",
      "5      6       INDIA  45.0  40.0    NaN  42.500000     D  YES\n",
      "6      7       JAPAN  75.0  89.0   56.0  73.333333     A  YES\n",
      "7      8       INDIA  50.0  47.0   56.0  51.000000     C  YES\n",
      "8      9          US  50.0   NaN   60.0  55.000000     C   NO\n",
      "9     10          UK  60.0   NaN   80.0  70.000000     A  YES\n",
      "10    11       INDIA  75.0  29.0   45.0  49.666667     C   NO\n",
      "11    12       JAPAN  45.0  15.0   40.0  33.333333     D  YES\n",
      "12    13       INDIA  47.0   NaN   85.0  66.000000     B  YES\n",
      "13    14       JAPAN  47.0  46.0   56.0  49.666667     C  YES\n",
      "14    15       INDIA   NaN  75.0   80.0  77.500000     A   NO\n",
      "15    16       INDIA  45.0  56.0   48.0  49.666667     C  YES\n",
      "16    17       JAPAN  47.0   NaN    NaN  47.000000     C   NO\n",
      "17    18       INDIA  42.0  51.0   74.0  55.666667     B  YES\n"
     ]
    }
   ],
   "source": [
    "import pandas as pd\n",
    "import numpy as np\n",
    "import warnings\n",
    "\n",
    "warnings.filterwarnings('ignore')\n",
    "\n",
    "dataset=pd.read_csv(r\"C:\\Users\\Windows 10\\OneDrive\\Desktop\\COLLEGE\\TE Sppu Practicals\\DSBDA\\p2\\SP2.csv\")\n",
    "print(dataset)"
   ]
  },
  {
   "cell_type": "code",
   "execution_count": 5,
   "metadata": {},
   "outputs": [
    {
     "data": {
      "text/plain": [
       "Roll             int64\n",
       "Nationality     object\n",
       "WT             float64\n",
       "AI             float64\n",
       "DSBDA          float64\n",
       "AVG            float64\n",
       "GRADE           object\n",
       "PG              object\n",
       "dtype: object"
      ]
     },
     "execution_count": 5,
     "metadata": {},
     "output_type": "execute_result"
    }
   ],
   "source": [
    "dataset.dtypes"
   ]
  },
  {
   "cell_type": "code",
   "execution_count": 6,
   "metadata": {},
   "outputs": [
    {
     "data": {
      "text/plain": [
       "Nationality    4\n",
       "GRADE          4\n",
       "PG             2\n",
       "dtype: int64"
      ]
     },
     "execution_count": 6,
     "metadata": {},
     "output_type": "execute_result"
    }
   ],
   "source": [
    "dataset.select_dtypes('object').apply(pd.Series.nunique,axis=0)"
   ]
  },
  {
   "cell_type": "code",
   "execution_count": 7,
   "metadata": {},
   "outputs": [
    {
     "data": {
      "text/plain": [
       "WT        9\n",
       "AI       13\n",
       "DSBDA     9\n",
       "AVG      16\n",
       "dtype: int64"
      ]
     },
     "execution_count": 7,
     "metadata": {},
     "output_type": "execute_result"
    }
   ],
   "source": [
    "dataset.select_dtypes(float).apply(pd.Series.nunique,axis=0)"
   ]
  },
  {
   "cell_type": "code",
   "execution_count": 8,
   "metadata": {},
   "outputs": [
    {
     "data": {
      "text/html": [
       "<div>\n",
       "<style scoped>\n",
       "    .dataframe tbody tr th:only-of-type {\n",
       "        vertical-align: middle;\n",
       "    }\n",
       "\n",
       "    .dataframe tbody tr th {\n",
       "        vertical-align: top;\n",
       "    }\n",
       "\n",
       "    .dataframe thead th {\n",
       "        text-align: right;\n",
       "    }\n",
       "</style>\n",
       "<table border=\"1\" class=\"dataframe\">\n",
       "  <thead>\n",
       "    <tr style=\"text-align: right;\">\n",
       "      <th></th>\n",
       "      <th>Nationality</th>\n",
       "      <th>GRADE</th>\n",
       "      <th>PG</th>\n",
       "    </tr>\n",
       "  </thead>\n",
       "  <tbody>\n",
       "    <tr>\n",
       "      <th>count</th>\n",
       "      <td>18</td>\n",
       "      <td>18</td>\n",
       "      <td>18</td>\n",
       "    </tr>\n",
       "    <tr>\n",
       "      <th>unique</th>\n",
       "      <td>4</td>\n",
       "      <td>4</td>\n",
       "      <td>2</td>\n",
       "    </tr>\n",
       "    <tr>\n",
       "      <th>top</th>\n",
       "      <td>INDIA</td>\n",
       "      <td>C</td>\n",
       "      <td>YES</td>\n",
       "    </tr>\n",
       "    <tr>\n",
       "      <th>freq</th>\n",
       "      <td>9</td>\n",
       "      <td>8</td>\n",
       "      <td>12</td>\n",
       "    </tr>\n",
       "  </tbody>\n",
       "</table>\n",
       "</div>"
      ],
      "text/plain": [
       "       Nationality GRADE   PG\n",
       "count           18    18   18\n",
       "unique           4     4    2\n",
       "top          INDIA     C  YES\n",
       "freq             9     8   12"
      ]
     },
     "execution_count": 8,
     "metadata": {},
     "output_type": "execute_result"
    }
   ],
   "source": [
    "fd=dataset.select_dtypes(object)\n",
    "fd.describe()"
   ]
  },
  {
   "cell_type": "code",
   "execution_count": 9,
   "metadata": {},
   "outputs": [
    {
     "data": {
      "text/html": [
       "<div>\n",
       "<style scoped>\n",
       "    .dataframe tbody tr th:only-of-type {\n",
       "        vertical-align: middle;\n",
       "    }\n",
       "\n",
       "    .dataframe tbody tr th {\n",
       "        vertical-align: top;\n",
       "    }\n",
       "\n",
       "    .dataframe thead th {\n",
       "        text-align: right;\n",
       "    }\n",
       "</style>\n",
       "<table border=\"1\" class=\"dataframe\">\n",
       "  <thead>\n",
       "    <tr style=\"text-align: right;\">\n",
       "      <th></th>\n",
       "      <th>WT</th>\n",
       "      <th>AI</th>\n",
       "      <th>DSBDA</th>\n",
       "      <th>AVG</th>\n",
       "    </tr>\n",
       "  </thead>\n",
       "  <tbody>\n",
       "    <tr>\n",
       "      <th>count</th>\n",
       "      <td>16.000000</td>\n",
       "      <td>14.000000</td>\n",
       "      <td>15.000000</td>\n",
       "      <td>18.000000</td>\n",
       "    </tr>\n",
       "    <tr>\n",
       "      <th>mean</th>\n",
       "      <td>54.437500</td>\n",
       "      <td>50.785714</td>\n",
       "      <td>60.466667</td>\n",
       "      <td>55.259259</td>\n",
       "    </tr>\n",
       "    <tr>\n",
       "      <th>std</th>\n",
       "      <td>11.792476</td>\n",
       "      <td>20.218722</td>\n",
       "      <td>14.831755</td>\n",
       "      <td>12.299001</td>\n",
       "    </tr>\n",
       "    <tr>\n",
       "      <th>min</th>\n",
       "      <td>42.000000</td>\n",
       "      <td>15.000000</td>\n",
       "      <td>40.000000</td>\n",
       "      <td>33.333333</td>\n",
       "    </tr>\n",
       "    <tr>\n",
       "      <th>25%</th>\n",
       "      <td>46.500000</td>\n",
       "      <td>40.000000</td>\n",
       "      <td>50.500000</td>\n",
       "      <td>49.666667</td>\n",
       "    </tr>\n",
       "    <tr>\n",
       "      <th>50%</th>\n",
       "      <td>50.000000</td>\n",
       "      <td>49.000000</td>\n",
       "      <td>56.000000</td>\n",
       "      <td>51.500000</td>\n",
       "    </tr>\n",
       "    <tr>\n",
       "      <th>75%</th>\n",
       "      <td>62.500000</td>\n",
       "      <td>65.750000</td>\n",
       "      <td>74.000000</td>\n",
       "      <td>64.416667</td>\n",
       "    </tr>\n",
       "    <tr>\n",
       "      <th>max</th>\n",
       "      <td>75.000000</td>\n",
       "      <td>89.000000</td>\n",
       "      <td>85.000000</td>\n",
       "      <td>77.500000</td>\n",
       "    </tr>\n",
       "  </tbody>\n",
       "</table>\n",
       "</div>"
      ],
      "text/plain": [
       "              WT         AI      DSBDA        AVG\n",
       "count  16.000000  14.000000  15.000000  18.000000\n",
       "mean   54.437500  50.785714  60.466667  55.259259\n",
       "std    11.792476  20.218722  14.831755  12.299001\n",
       "min    42.000000  15.000000  40.000000  33.333333\n",
       "25%    46.500000  40.000000  50.500000  49.666667\n",
       "50%    50.000000  49.000000  56.000000  51.500000\n",
       "75%    62.500000  65.750000  74.000000  64.416667\n",
       "max    75.000000  89.000000  85.000000  77.500000"
      ]
     },
     "execution_count": 9,
     "metadata": {},
     "output_type": "execute_result"
    }
   ],
   "source": [
    "fd=dataset.select_dtypes(float)\n",
    "fd.describe()"
   ]
  },
  {
   "cell_type": "code",
   "execution_count": 10,
   "metadata": {},
   "outputs": [
    {
     "data": {
      "text/html": [
       "<div>\n",
       "<style scoped>\n",
       "    .dataframe tbody tr th:only-of-type {\n",
       "        vertical-align: middle;\n",
       "    }\n",
       "\n",
       "    .dataframe tbody tr th {\n",
       "        vertical-align: top;\n",
       "    }\n",
       "\n",
       "    .dataframe thead th {\n",
       "        text-align: right;\n",
       "    }\n",
       "</style>\n",
       "<table border=\"1\" class=\"dataframe\">\n",
       "  <thead>\n",
       "    <tr style=\"text-align: right;\">\n",
       "      <th></th>\n",
       "      <th>Roll</th>\n",
       "    </tr>\n",
       "  </thead>\n",
       "  <tbody>\n",
       "    <tr>\n",
       "      <th>count</th>\n",
       "      <td>18.000000</td>\n",
       "    </tr>\n",
       "    <tr>\n",
       "      <th>mean</th>\n",
       "      <td>9.500000</td>\n",
       "    </tr>\n",
       "    <tr>\n",
       "      <th>std</th>\n",
       "      <td>5.338539</td>\n",
       "    </tr>\n",
       "    <tr>\n",
       "      <th>min</th>\n",
       "      <td>1.000000</td>\n",
       "    </tr>\n",
       "    <tr>\n",
       "      <th>25%</th>\n",
       "      <td>5.250000</td>\n",
       "    </tr>\n",
       "    <tr>\n",
       "      <th>50%</th>\n",
       "      <td>9.500000</td>\n",
       "    </tr>\n",
       "    <tr>\n",
       "      <th>75%</th>\n",
       "      <td>13.750000</td>\n",
       "    </tr>\n",
       "    <tr>\n",
       "      <th>max</th>\n",
       "      <td>18.000000</td>\n",
       "    </tr>\n",
       "  </tbody>\n",
       "</table>\n",
       "</div>"
      ],
      "text/plain": [
       "            Roll\n",
       "count  18.000000\n",
       "mean    9.500000\n",
       "std     5.338539\n",
       "min     1.000000\n",
       "25%     5.250000\n",
       "50%     9.500000\n",
       "75%    13.750000\n",
       "max    18.000000"
      ]
     },
     "execution_count": 10,
     "metadata": {},
     "output_type": "execute_result"
    }
   ],
   "source": [
    "fd=dataset.select_dtypes(int)\n",
    "fd.describe()\n"
   ]
  },
  {
   "cell_type": "code",
   "execution_count": 11,
   "metadata": {},
   "outputs": [
    {
     "data": {
      "text/plain": [
       "Roll           0\n",
       "Nationality    0\n",
       "WT             2\n",
       "AI             4\n",
       "DSBDA          3\n",
       "AVG            0\n",
       "GRADE          0\n",
       "PG             0\n",
       "dtype: int64"
      ]
     },
     "execution_count": 11,
     "metadata": {},
     "output_type": "execute_result"
    }
   ],
   "source": [
    "dataset.isnull().sum()"
   ]
  },
  {
   "cell_type": "code",
   "execution_count": 12,
   "metadata": {},
   "outputs": [
    {
     "data": {
      "text/plain": [
       "54.4375"
      ]
     },
     "execution_count": 12,
     "metadata": {},
     "output_type": "execute_result"
    }
   ],
   "source": [
    "dataset[\"WT\"].mean()"
   ]
  },
  {
   "cell_type": "code",
   "execution_count": 13,
   "metadata": {},
   "outputs": [
    {
     "data": {
      "text/plain": [
       "49.0"
      ]
     },
     "execution_count": 13,
     "metadata": {},
     "output_type": "execute_result"
    }
   ],
   "source": [
    "dataset[\"AI\"].median()"
   ]
  },
  {
   "cell_type": "code",
   "execution_count": 14,
   "metadata": {},
   "outputs": [
    {
     "data": {
      "text/plain": [
       "0    56.0\n",
       "Name: DSBDA, dtype: float64"
      ]
     },
     "execution_count": 14,
     "metadata": {},
     "output_type": "execute_result"
    }
   ],
   "source": [
    "dataset[\"DSBDA\"].mode()"
   ]
  },
  {
   "cell_type": "code",
   "execution_count": null,
   "metadata": {},
   "outputs": [],
   "source": [
    "dataset.fillna(dataset.mean())\n",
    "dataset.fillna(dataset.median())  #will not work as my dataset contain non numeric values "
   ]
  },
  {
   "cell_type": "code",
   "execution_count": 16,
   "metadata": {},
   "outputs": [
    {
     "data": {
      "text/plain": [
       "0     72.0000\n",
       "1     70.0000\n",
       "2     54.4375\n",
       "3     50.0000\n",
       "4     51.0000\n",
       "5     45.0000\n",
       "6     75.0000\n",
       "7     50.0000\n",
       "8     50.0000\n",
       "9     60.0000\n",
       "10    75.0000\n",
       "11    45.0000\n",
       "12    47.0000\n",
       "13    47.0000\n",
       "14    54.4375\n",
       "15    45.0000\n",
       "16    47.0000\n",
       "17    42.0000\n",
       "Name: WT, dtype: float64"
      ]
     },
     "execution_count": 16,
     "metadata": {},
     "output_type": "execute_result"
    }
   ],
   "source": [
    "x=dataset[\"WT\"].mean()\n",
    "dataset[\"WT\"]=dataset[\"WT\"].fillna(x)\n",
    "dataset[\"WT\"]"
   ]
  },
  {
   "cell_type": "code",
   "execution_count": 17,
   "metadata": {},
   "outputs": [
    {
     "data": {
      "text/plain": [
       "0     72.0\n",
       "1     69.0\n",
       "2     40.0\n",
       "3     30.0\n",
       "4     52.0\n",
       "5     40.0\n",
       "6     89.0\n",
       "7     47.0\n",
       "8     49.0\n",
       "9     49.0\n",
       "10    29.0\n",
       "11    15.0\n",
       "12    49.0\n",
       "13    46.0\n",
       "14    75.0\n",
       "15    56.0\n",
       "16    49.0\n",
       "17    51.0\n",
       "Name: AI, dtype: float64"
      ]
     },
     "execution_count": 17,
     "metadata": {},
     "output_type": "execute_result"
    }
   ],
   "source": [
    "x=dataset[\"AI\"].median()\n",
    "dataset[\"AI\"]=dataset[\"AI\"].fillna(x)\n",
    "dataset[\"AI\"]"
   ]
  },
  {
   "cell_type": "code",
   "execution_count": 18,
   "metadata": {},
   "outputs": [
    {
     "data": {
      "text/plain": [
       "0     74.0\n",
       "1     40.0\n",
       "2     60.0\n",
       "3      NaN\n",
       "4     53.0\n",
       "5      NaN\n",
       "6     56.0\n",
       "7     56.0\n",
       "8     60.0\n",
       "9     80.0\n",
       "10    45.0\n",
       "11    40.0\n",
       "12    85.0\n",
       "13    56.0\n",
       "14    80.0\n",
       "15    48.0\n",
       "16     NaN\n",
       "17    74.0\n",
       "Name: DSBDA, dtype: float64"
      ]
     },
     "execution_count": 18,
     "metadata": {},
     "output_type": "execute_result"
    }
   ],
   "source": [
    "x=dataset[\"DSBDA\"].mode()\n",
    "dataset[\"DSBDA\"]=dataset[\"DSBDA\"].fillna(x)\n",
    "dataset[\"DSBDA\"]"
   ]
  },
  {
   "cell_type": "code",
   "execution_count": 19,
   "metadata": {},
   "outputs": [
    {
     "data": {
      "text/plain": [
       "0     72.0000\n",
       "1     70.0000\n",
       "2     54.4375\n",
       "3     50.0000\n",
       "4     51.0000\n",
       "5     45.0000\n",
       "6     75.0000\n",
       "7     50.0000\n",
       "8     50.0000\n",
       "9     60.0000\n",
       "10    75.0000\n",
       "11    45.0000\n",
       "12    47.0000\n",
       "13    47.0000\n",
       "14    54.4375\n",
       "15    45.0000\n",
       "16    47.0000\n",
       "17    42.0000\n",
       "Name: WT, dtype: float64"
      ]
     },
     "execution_count": 19,
     "metadata": {},
     "output_type": "execute_result"
    }
   ],
   "source": [
    "dataset[\"WT\"]=dataset[\"WT\"].replace(np.nan,dataset[\"WT\"].mean())\n",
    "dataset[\"WT\"]"
   ]
  },
  {
   "cell_type": "code",
   "execution_count": 20,
   "metadata": {},
   "outputs": [
    {
     "data": {
      "text/plain": [
       "0     72.0000\n",
       "1     70.0000\n",
       "2     54.4375\n",
       "3     50.0000\n",
       "4     51.0000\n",
       "5     45.0000\n",
       "6     75.0000\n",
       "7     50.0000\n",
       "8     50.0000\n",
       "9     60.0000\n",
       "10    75.0000\n",
       "11    45.0000\n",
       "12    47.0000\n",
       "13    47.0000\n",
       "14    54.4375\n",
       "15    45.0000\n",
       "16    47.0000\n",
       "17    42.0000\n",
       "Name: WT, dtype: float64"
      ]
     },
     "execution_count": 20,
     "metadata": {},
     "output_type": "execute_result"
    }
   ],
   "source": [
    "dataset[\"WT\"]=dataset[\"WT\"].replace(np.nan,dataset[\"WT\"].mean())\n",
    "dataset[\"WT\"]"
   ]
  },
  {
   "cell_type": "code",
   "execution_count": 21,
   "metadata": {},
   "outputs": [
    {
     "data": {
      "text/plain": [
       "0     YES\n",
       "1     YES\n",
       "2      NO\n",
       "3     YES\n",
       "4      NO\n",
       "5     YES\n",
       "6     YES\n",
       "7     YES\n",
       "8      NO\n",
       "9     YES\n",
       "10     NO\n",
       "11    YES\n",
       "12    YES\n",
       "13    YES\n",
       "14     NO\n",
       "15    YES\n",
       "16     NO\n",
       "17    YES\n",
       "Name: PG, dtype: object"
      ]
     },
     "execution_count": 21,
     "metadata": {},
     "output_type": "execute_result"
    }
   ],
   "source": [
    "dataset[\"PG\"]=dataset[\"PG\"].fillna(method='ffill')\n",
    "dataset[\"PG\"]"
   ]
  },
  {
   "cell_type": "code",
   "execution_count": 22,
   "metadata": {},
   "outputs": [
    {
     "data": {
      "text/html": [
       "<div>\n",
       "<style scoped>\n",
       "    .dataframe tbody tr th:only-of-type {\n",
       "        vertical-align: middle;\n",
       "    }\n",
       "\n",
       "    .dataframe tbody tr th {\n",
       "        vertical-align: top;\n",
       "    }\n",
       "\n",
       "    .dataframe thead th {\n",
       "        text-align: right;\n",
       "    }\n",
       "</style>\n",
       "<table border=\"1\" class=\"dataframe\">\n",
       "  <thead>\n",
       "    <tr style=\"text-align: right;\">\n",
       "      <th></th>\n",
       "      <th>Roll</th>\n",
       "      <th>Nationality</th>\n",
       "      <th>WT</th>\n",
       "      <th>AI</th>\n",
       "      <th>DSBDA</th>\n",
       "      <th>AVG</th>\n",
       "      <th>GRADE</th>\n",
       "      <th>PG</th>\n",
       "    </tr>\n",
       "  </thead>\n",
       "  <tbody>\n",
       "    <tr>\n",
       "      <th>0</th>\n",
       "      <td>1</td>\n",
       "      <td>INDIA</td>\n",
       "      <td>72.0000</td>\n",
       "      <td>72.0</td>\n",
       "      <td>74.0</td>\n",
       "      <td>72.666667</td>\n",
       "      <td>A</td>\n",
       "      <td>YES</td>\n",
       "    </tr>\n",
       "    <tr>\n",
       "      <th>1</th>\n",
       "      <td>2</td>\n",
       "      <td>JAPAN</td>\n",
       "      <td>70.0000</td>\n",
       "      <td>69.0</td>\n",
       "      <td>40.0</td>\n",
       "      <td>59.666667</td>\n",
       "      <td>B</td>\n",
       "      <td>YES</td>\n",
       "    </tr>\n",
       "    <tr>\n",
       "      <th>2</th>\n",
       "      <td>3</td>\n",
       "      <td>INDIA</td>\n",
       "      <td>54.4375</td>\n",
       "      <td>40.0</td>\n",
       "      <td>60.0</td>\n",
       "      <td>50.000000</td>\n",
       "      <td>C</td>\n",
       "      <td>NO</td>\n",
       "    </tr>\n",
       "    <tr>\n",
       "      <th>4</th>\n",
       "      <td>5</td>\n",
       "      <td>UK</td>\n",
       "      <td>51.0000</td>\n",
       "      <td>52.0</td>\n",
       "      <td>53.0</td>\n",
       "      <td>52.000000</td>\n",
       "      <td>C</td>\n",
       "      <td>NO</td>\n",
       "    </tr>\n",
       "    <tr>\n",
       "      <th>6</th>\n",
       "      <td>7</td>\n",
       "      <td>JAPAN</td>\n",
       "      <td>75.0000</td>\n",
       "      <td>89.0</td>\n",
       "      <td>56.0</td>\n",
       "      <td>73.333333</td>\n",
       "      <td>A</td>\n",
       "      <td>YES</td>\n",
       "    </tr>\n",
       "    <tr>\n",
       "      <th>7</th>\n",
       "      <td>8</td>\n",
       "      <td>INDIA</td>\n",
       "      <td>50.0000</td>\n",
       "      <td>47.0</td>\n",
       "      <td>56.0</td>\n",
       "      <td>51.000000</td>\n",
       "      <td>C</td>\n",
       "      <td>YES</td>\n",
       "    </tr>\n",
       "    <tr>\n",
       "      <th>8</th>\n",
       "      <td>9</td>\n",
       "      <td>US</td>\n",
       "      <td>50.0000</td>\n",
       "      <td>49.0</td>\n",
       "      <td>60.0</td>\n",
       "      <td>55.000000</td>\n",
       "      <td>C</td>\n",
       "      <td>NO</td>\n",
       "    </tr>\n",
       "    <tr>\n",
       "      <th>9</th>\n",
       "      <td>10</td>\n",
       "      <td>UK</td>\n",
       "      <td>60.0000</td>\n",
       "      <td>49.0</td>\n",
       "      <td>80.0</td>\n",
       "      <td>70.000000</td>\n",
       "      <td>A</td>\n",
       "      <td>YES</td>\n",
       "    </tr>\n",
       "    <tr>\n",
       "      <th>10</th>\n",
       "      <td>11</td>\n",
       "      <td>INDIA</td>\n",
       "      <td>75.0000</td>\n",
       "      <td>29.0</td>\n",
       "      <td>45.0</td>\n",
       "      <td>49.666667</td>\n",
       "      <td>C</td>\n",
       "      <td>NO</td>\n",
       "    </tr>\n",
       "    <tr>\n",
       "      <th>11</th>\n",
       "      <td>12</td>\n",
       "      <td>JAPAN</td>\n",
       "      <td>45.0000</td>\n",
       "      <td>15.0</td>\n",
       "      <td>40.0</td>\n",
       "      <td>33.333333</td>\n",
       "      <td>D</td>\n",
       "      <td>YES</td>\n",
       "    </tr>\n",
       "    <tr>\n",
       "      <th>12</th>\n",
       "      <td>13</td>\n",
       "      <td>INDIA</td>\n",
       "      <td>47.0000</td>\n",
       "      <td>49.0</td>\n",
       "      <td>85.0</td>\n",
       "      <td>66.000000</td>\n",
       "      <td>B</td>\n",
       "      <td>YES</td>\n",
       "    </tr>\n",
       "    <tr>\n",
       "      <th>13</th>\n",
       "      <td>14</td>\n",
       "      <td>JAPAN</td>\n",
       "      <td>47.0000</td>\n",
       "      <td>46.0</td>\n",
       "      <td>56.0</td>\n",
       "      <td>49.666667</td>\n",
       "      <td>C</td>\n",
       "      <td>YES</td>\n",
       "    </tr>\n",
       "    <tr>\n",
       "      <th>14</th>\n",
       "      <td>15</td>\n",
       "      <td>INDIA</td>\n",
       "      <td>54.4375</td>\n",
       "      <td>75.0</td>\n",
       "      <td>80.0</td>\n",
       "      <td>77.500000</td>\n",
       "      <td>A</td>\n",
       "      <td>NO</td>\n",
       "    </tr>\n",
       "    <tr>\n",
       "      <th>15</th>\n",
       "      <td>16</td>\n",
       "      <td>INDIA</td>\n",
       "      <td>45.0000</td>\n",
       "      <td>56.0</td>\n",
       "      <td>48.0</td>\n",
       "      <td>49.666667</td>\n",
       "      <td>C</td>\n",
       "      <td>YES</td>\n",
       "    </tr>\n",
       "    <tr>\n",
       "      <th>17</th>\n",
       "      <td>18</td>\n",
       "      <td>INDIA</td>\n",
       "      <td>42.0000</td>\n",
       "      <td>51.0</td>\n",
       "      <td>74.0</td>\n",
       "      <td>55.666667</td>\n",
       "      <td>B</td>\n",
       "      <td>YES</td>\n",
       "    </tr>\n",
       "  </tbody>\n",
       "</table>\n",
       "</div>"
      ],
      "text/plain": [
       "    Roll Nationality       WT    AI  DSBDA        AVG GRADE   PG\n",
       "0      1       INDIA  72.0000  72.0   74.0  72.666667     A  YES\n",
       "1      2       JAPAN  70.0000  69.0   40.0  59.666667     B  YES\n",
       "2      3       INDIA  54.4375  40.0   60.0  50.000000     C   NO\n",
       "4      5          UK  51.0000  52.0   53.0  52.000000     C   NO\n",
       "6      7       JAPAN  75.0000  89.0   56.0  73.333333     A  YES\n",
       "7      8       INDIA  50.0000  47.0   56.0  51.000000     C  YES\n",
       "8      9          US  50.0000  49.0   60.0  55.000000     C   NO\n",
       "9     10          UK  60.0000  49.0   80.0  70.000000     A  YES\n",
       "10    11       INDIA  75.0000  29.0   45.0  49.666667     C   NO\n",
       "11    12       JAPAN  45.0000  15.0   40.0  33.333333     D  YES\n",
       "12    13       INDIA  47.0000  49.0   85.0  66.000000     B  YES\n",
       "13    14       JAPAN  47.0000  46.0   56.0  49.666667     C  YES\n",
       "14    15       INDIA  54.4375  75.0   80.0  77.500000     A   NO\n",
       "15    16       INDIA  45.0000  56.0   48.0  49.666667     C  YES\n",
       "17    18       INDIA  42.0000  51.0   74.0  55.666667     B  YES"
      ]
     },
     "execution_count": 22,
     "metadata": {},
     "output_type": "execute_result"
    }
   ],
   "source": [
    "newdata=dataset.dropna()\n",
    "newdata"
   ]
  },
  {
   "cell_type": "code",
   "execution_count": 23,
   "metadata": {},
   "outputs": [
    {
     "data": {
      "text/html": [
       "<div>\n",
       "<style scoped>\n",
       "    .dataframe tbody tr th:only-of-type {\n",
       "        vertical-align: middle;\n",
       "    }\n",
       "\n",
       "    .dataframe tbody tr th {\n",
       "        vertical-align: top;\n",
       "    }\n",
       "\n",
       "    .dataframe thead th {\n",
       "        text-align: right;\n",
       "    }\n",
       "</style>\n",
       "<table border=\"1\" class=\"dataframe\">\n",
       "  <thead>\n",
       "    <tr style=\"text-align: right;\">\n",
       "      <th></th>\n",
       "      <th>Roll</th>\n",
       "      <th>Nationality</th>\n",
       "      <th>WT</th>\n",
       "      <th>AI</th>\n",
       "      <th>DSBDA</th>\n",
       "      <th>AVG</th>\n",
       "      <th>GRADE</th>\n",
       "      <th>PG</th>\n",
       "    </tr>\n",
       "  </thead>\n",
       "  <tbody>\n",
       "    <tr>\n",
       "      <th>0</th>\n",
       "      <td>1</td>\n",
       "      <td>INDIA</td>\n",
       "      <td>72.0000</td>\n",
       "      <td>72.0</td>\n",
       "      <td>74.0</td>\n",
       "      <td>72.666667</td>\n",
       "      <td>A</td>\n",
       "      <td>YES</td>\n",
       "    </tr>\n",
       "    <tr>\n",
       "      <th>1</th>\n",
       "      <td>2</td>\n",
       "      <td>JAPAN</td>\n",
       "      <td>70.0000</td>\n",
       "      <td>69.0</td>\n",
       "      <td>40.0</td>\n",
       "      <td>59.666667</td>\n",
       "      <td>B</td>\n",
       "      <td>YES</td>\n",
       "    </tr>\n",
       "    <tr>\n",
       "      <th>2</th>\n",
       "      <td>3</td>\n",
       "      <td>INDIA</td>\n",
       "      <td>54.4375</td>\n",
       "      <td>40.0</td>\n",
       "      <td>60.0</td>\n",
       "      <td>50.000000</td>\n",
       "      <td>C</td>\n",
       "      <td>NO</td>\n",
       "    </tr>\n",
       "    <tr>\n",
       "      <th>3</th>\n",
       "      <td>4</td>\n",
       "      <td>US</td>\n",
       "      <td>50.0000</td>\n",
       "      <td>30.0</td>\n",
       "      <td>NaN</td>\n",
       "      <td>40.000000</td>\n",
       "      <td>D</td>\n",
       "      <td>YES</td>\n",
       "    </tr>\n",
       "    <tr>\n",
       "      <th>4</th>\n",
       "      <td>5</td>\n",
       "      <td>UK</td>\n",
       "      <td>51.0000</td>\n",
       "      <td>52.0</td>\n",
       "      <td>53.0</td>\n",
       "      <td>52.000000</td>\n",
       "      <td>C</td>\n",
       "      <td>NO</td>\n",
       "    </tr>\n",
       "    <tr>\n",
       "      <th>5</th>\n",
       "      <td>6</td>\n",
       "      <td>INDIA</td>\n",
       "      <td>45.0000</td>\n",
       "      <td>40.0</td>\n",
       "      <td>NaN</td>\n",
       "      <td>42.500000</td>\n",
       "      <td>D</td>\n",
       "      <td>YES</td>\n",
       "    </tr>\n",
       "    <tr>\n",
       "      <th>6</th>\n",
       "      <td>7</td>\n",
       "      <td>JAPAN</td>\n",
       "      <td>75.0000</td>\n",
       "      <td>89.0</td>\n",
       "      <td>56.0</td>\n",
       "      <td>73.333333</td>\n",
       "      <td>A</td>\n",
       "      <td>YES</td>\n",
       "    </tr>\n",
       "    <tr>\n",
       "      <th>7</th>\n",
       "      <td>8</td>\n",
       "      <td>INDIA</td>\n",
       "      <td>50.0000</td>\n",
       "      <td>47.0</td>\n",
       "      <td>56.0</td>\n",
       "      <td>51.000000</td>\n",
       "      <td>C</td>\n",
       "      <td>YES</td>\n",
       "    </tr>\n",
       "    <tr>\n",
       "      <th>8</th>\n",
       "      <td>9</td>\n",
       "      <td>US</td>\n",
       "      <td>50.0000</td>\n",
       "      <td>49.0</td>\n",
       "      <td>60.0</td>\n",
       "      <td>55.000000</td>\n",
       "      <td>C</td>\n",
       "      <td>NO</td>\n",
       "    </tr>\n",
       "    <tr>\n",
       "      <th>9</th>\n",
       "      <td>10</td>\n",
       "      <td>UK</td>\n",
       "      <td>60.0000</td>\n",
       "      <td>49.0</td>\n",
       "      <td>80.0</td>\n",
       "      <td>70.000000</td>\n",
       "      <td>A</td>\n",
       "      <td>YES</td>\n",
       "    </tr>\n",
       "    <tr>\n",
       "      <th>10</th>\n",
       "      <td>11</td>\n",
       "      <td>INDIA</td>\n",
       "      <td>75.0000</td>\n",
       "      <td>29.0</td>\n",
       "      <td>45.0</td>\n",
       "      <td>49.666667</td>\n",
       "      <td>C</td>\n",
       "      <td>NO</td>\n",
       "    </tr>\n",
       "    <tr>\n",
       "      <th>11</th>\n",
       "      <td>12</td>\n",
       "      <td>JAPAN</td>\n",
       "      <td>45.0000</td>\n",
       "      <td>15.0</td>\n",
       "      <td>40.0</td>\n",
       "      <td>33.333333</td>\n",
       "      <td>D</td>\n",
       "      <td>YES</td>\n",
       "    </tr>\n",
       "    <tr>\n",
       "      <th>12</th>\n",
       "      <td>13</td>\n",
       "      <td>INDIA</td>\n",
       "      <td>47.0000</td>\n",
       "      <td>49.0</td>\n",
       "      <td>85.0</td>\n",
       "      <td>66.000000</td>\n",
       "      <td>B</td>\n",
       "      <td>YES</td>\n",
       "    </tr>\n",
       "    <tr>\n",
       "      <th>13</th>\n",
       "      <td>14</td>\n",
       "      <td>JAPAN</td>\n",
       "      <td>47.0000</td>\n",
       "      <td>46.0</td>\n",
       "      <td>56.0</td>\n",
       "      <td>49.666667</td>\n",
       "      <td>C</td>\n",
       "      <td>YES</td>\n",
       "    </tr>\n",
       "    <tr>\n",
       "      <th>14</th>\n",
       "      <td>15</td>\n",
       "      <td>INDIA</td>\n",
       "      <td>54.4375</td>\n",
       "      <td>75.0</td>\n",
       "      <td>80.0</td>\n",
       "      <td>77.500000</td>\n",
       "      <td>A</td>\n",
       "      <td>NO</td>\n",
       "    </tr>\n",
       "    <tr>\n",
       "      <th>15</th>\n",
       "      <td>16</td>\n",
       "      <td>INDIA</td>\n",
       "      <td>45.0000</td>\n",
       "      <td>56.0</td>\n",
       "      <td>48.0</td>\n",
       "      <td>49.666667</td>\n",
       "      <td>C</td>\n",
       "      <td>YES</td>\n",
       "    </tr>\n",
       "    <tr>\n",
       "      <th>16</th>\n",
       "      <td>17</td>\n",
       "      <td>JAPAN</td>\n",
       "      <td>47.0000</td>\n",
       "      <td>49.0</td>\n",
       "      <td>NaN</td>\n",
       "      <td>47.000000</td>\n",
       "      <td>C</td>\n",
       "      <td>NO</td>\n",
       "    </tr>\n",
       "    <tr>\n",
       "      <th>17</th>\n",
       "      <td>18</td>\n",
       "      <td>INDIA</td>\n",
       "      <td>42.0000</td>\n",
       "      <td>51.0</td>\n",
       "      <td>74.0</td>\n",
       "      <td>55.666667</td>\n",
       "      <td>B</td>\n",
       "      <td>YES</td>\n",
       "    </tr>\n",
       "  </tbody>\n",
       "</table>\n",
       "</div>"
      ],
      "text/plain": [
       "    Roll Nationality       WT    AI  DSBDA        AVG GRADE   PG\n",
       "0      1       INDIA  72.0000  72.0   74.0  72.666667     A  YES\n",
       "1      2       JAPAN  70.0000  69.0   40.0  59.666667     B  YES\n",
       "2      3       INDIA  54.4375  40.0   60.0  50.000000     C   NO\n",
       "3      4          US  50.0000  30.0    NaN  40.000000     D  YES\n",
       "4      5          UK  51.0000  52.0   53.0  52.000000     C   NO\n",
       "5      6       INDIA  45.0000  40.0    NaN  42.500000     D  YES\n",
       "6      7       JAPAN  75.0000  89.0   56.0  73.333333     A  YES\n",
       "7      8       INDIA  50.0000  47.0   56.0  51.000000     C  YES\n",
       "8      9          US  50.0000  49.0   60.0  55.000000     C   NO\n",
       "9     10          UK  60.0000  49.0   80.0  70.000000     A  YES\n",
       "10    11       INDIA  75.0000  29.0   45.0  49.666667     C   NO\n",
       "11    12       JAPAN  45.0000  15.0   40.0  33.333333     D  YES\n",
       "12    13       INDIA  47.0000  49.0   85.0  66.000000     B  YES\n",
       "13    14       JAPAN  47.0000  46.0   56.0  49.666667     C  YES\n",
       "14    15       INDIA  54.4375  75.0   80.0  77.500000     A   NO\n",
       "15    16       INDIA  45.0000  56.0   48.0  49.666667     C  YES\n",
       "16    17       JAPAN  47.0000  49.0    NaN  47.000000     C   NO\n",
       "17    18       INDIA  42.0000  51.0   74.0  55.666667     B  YES"
      ]
     },
     "execution_count": 23,
     "metadata": {},
     "output_type": "execute_result"
    }
   ],
   "source": [
    "newdata=dataset.dropna(how='all')\n",
    "newdata\n"
   ]
  },
  {
   "cell_type": "code",
   "execution_count": 24,
   "metadata": {},
   "outputs": [
    {
     "data": {
      "text/html": [
       "<div>\n",
       "<style scoped>\n",
       "    .dataframe tbody tr th:only-of-type {\n",
       "        vertical-align: middle;\n",
       "    }\n",
       "\n",
       "    .dataframe tbody tr th {\n",
       "        vertical-align: top;\n",
       "    }\n",
       "\n",
       "    .dataframe thead th {\n",
       "        text-align: right;\n",
       "    }\n",
       "</style>\n",
       "<table border=\"1\" class=\"dataframe\">\n",
       "  <thead>\n",
       "    <tr style=\"text-align: right;\">\n",
       "      <th></th>\n",
       "      <th>Roll</th>\n",
       "      <th>Nationality</th>\n",
       "      <th>WT</th>\n",
       "      <th>AI</th>\n",
       "      <th>DSBDA</th>\n",
       "      <th>AVG</th>\n",
       "      <th>GRADE</th>\n",
       "      <th>PG</th>\n",
       "    </tr>\n",
       "  </thead>\n",
       "  <tbody>\n",
       "    <tr>\n",
       "      <th>0</th>\n",
       "      <td>1</td>\n",
       "      <td>INDIA</td>\n",
       "      <td>72.0000</td>\n",
       "      <td>72.0</td>\n",
       "      <td>74.0</td>\n",
       "      <td>72.666667</td>\n",
       "      <td>A</td>\n",
       "      <td>YES</td>\n",
       "    </tr>\n",
       "    <tr>\n",
       "      <th>1</th>\n",
       "      <td>2</td>\n",
       "      <td>JAPAN</td>\n",
       "      <td>70.0000</td>\n",
       "      <td>69.0</td>\n",
       "      <td>40.0</td>\n",
       "      <td>59.666667</td>\n",
       "      <td>B</td>\n",
       "      <td>YES</td>\n",
       "    </tr>\n",
       "    <tr>\n",
       "      <th>2</th>\n",
       "      <td>3</td>\n",
       "      <td>INDIA</td>\n",
       "      <td>54.4375</td>\n",
       "      <td>40.0</td>\n",
       "      <td>60.0</td>\n",
       "      <td>50.000000</td>\n",
       "      <td>C</td>\n",
       "      <td>NO</td>\n",
       "    </tr>\n",
       "    <tr>\n",
       "      <th>4</th>\n",
       "      <td>5</td>\n",
       "      <td>UK</td>\n",
       "      <td>51.0000</td>\n",
       "      <td>52.0</td>\n",
       "      <td>53.0</td>\n",
       "      <td>52.000000</td>\n",
       "      <td>C</td>\n",
       "      <td>NO</td>\n",
       "    </tr>\n",
       "    <tr>\n",
       "      <th>6</th>\n",
       "      <td>7</td>\n",
       "      <td>JAPAN</td>\n",
       "      <td>75.0000</td>\n",
       "      <td>89.0</td>\n",
       "      <td>56.0</td>\n",
       "      <td>73.333333</td>\n",
       "      <td>A</td>\n",
       "      <td>YES</td>\n",
       "    </tr>\n",
       "    <tr>\n",
       "      <th>7</th>\n",
       "      <td>8</td>\n",
       "      <td>INDIA</td>\n",
       "      <td>50.0000</td>\n",
       "      <td>47.0</td>\n",
       "      <td>56.0</td>\n",
       "      <td>51.000000</td>\n",
       "      <td>C</td>\n",
       "      <td>YES</td>\n",
       "    </tr>\n",
       "    <tr>\n",
       "      <th>8</th>\n",
       "      <td>9</td>\n",
       "      <td>US</td>\n",
       "      <td>50.0000</td>\n",
       "      <td>49.0</td>\n",
       "      <td>60.0</td>\n",
       "      <td>55.000000</td>\n",
       "      <td>C</td>\n",
       "      <td>NO</td>\n",
       "    </tr>\n",
       "    <tr>\n",
       "      <th>9</th>\n",
       "      <td>10</td>\n",
       "      <td>UK</td>\n",
       "      <td>60.0000</td>\n",
       "      <td>49.0</td>\n",
       "      <td>80.0</td>\n",
       "      <td>70.000000</td>\n",
       "      <td>A</td>\n",
       "      <td>YES</td>\n",
       "    </tr>\n",
       "    <tr>\n",
       "      <th>10</th>\n",
       "      <td>11</td>\n",
       "      <td>INDIA</td>\n",
       "      <td>75.0000</td>\n",
       "      <td>29.0</td>\n",
       "      <td>45.0</td>\n",
       "      <td>49.666667</td>\n",
       "      <td>C</td>\n",
       "      <td>NO</td>\n",
       "    </tr>\n",
       "    <tr>\n",
       "      <th>11</th>\n",
       "      <td>12</td>\n",
       "      <td>JAPAN</td>\n",
       "      <td>45.0000</td>\n",
       "      <td>15.0</td>\n",
       "      <td>40.0</td>\n",
       "      <td>33.333333</td>\n",
       "      <td>D</td>\n",
       "      <td>YES</td>\n",
       "    </tr>\n",
       "    <tr>\n",
       "      <th>12</th>\n",
       "      <td>13</td>\n",
       "      <td>INDIA</td>\n",
       "      <td>47.0000</td>\n",
       "      <td>49.0</td>\n",
       "      <td>85.0</td>\n",
       "      <td>66.000000</td>\n",
       "      <td>B</td>\n",
       "      <td>YES</td>\n",
       "    </tr>\n",
       "    <tr>\n",
       "      <th>13</th>\n",
       "      <td>14</td>\n",
       "      <td>JAPAN</td>\n",
       "      <td>47.0000</td>\n",
       "      <td>46.0</td>\n",
       "      <td>56.0</td>\n",
       "      <td>49.666667</td>\n",
       "      <td>C</td>\n",
       "      <td>YES</td>\n",
       "    </tr>\n",
       "    <tr>\n",
       "      <th>14</th>\n",
       "      <td>15</td>\n",
       "      <td>INDIA</td>\n",
       "      <td>54.4375</td>\n",
       "      <td>75.0</td>\n",
       "      <td>80.0</td>\n",
       "      <td>77.500000</td>\n",
       "      <td>A</td>\n",
       "      <td>NO</td>\n",
       "    </tr>\n",
       "    <tr>\n",
       "      <th>15</th>\n",
       "      <td>16</td>\n",
       "      <td>INDIA</td>\n",
       "      <td>45.0000</td>\n",
       "      <td>56.0</td>\n",
       "      <td>48.0</td>\n",
       "      <td>49.666667</td>\n",
       "      <td>C</td>\n",
       "      <td>YES</td>\n",
       "    </tr>\n",
       "    <tr>\n",
       "      <th>17</th>\n",
       "      <td>18</td>\n",
       "      <td>INDIA</td>\n",
       "      <td>42.0000</td>\n",
       "      <td>51.0</td>\n",
       "      <td>74.0</td>\n",
       "      <td>55.666667</td>\n",
       "      <td>B</td>\n",
       "      <td>YES</td>\n",
       "    </tr>\n",
       "  </tbody>\n",
       "</table>\n",
       "</div>"
      ],
      "text/plain": [
       "    Roll Nationality       WT    AI  DSBDA        AVG GRADE   PG\n",
       "0      1       INDIA  72.0000  72.0   74.0  72.666667     A  YES\n",
       "1      2       JAPAN  70.0000  69.0   40.0  59.666667     B  YES\n",
       "2      3       INDIA  54.4375  40.0   60.0  50.000000     C   NO\n",
       "4      5          UK  51.0000  52.0   53.0  52.000000     C   NO\n",
       "6      7       JAPAN  75.0000  89.0   56.0  73.333333     A  YES\n",
       "7      8       INDIA  50.0000  47.0   56.0  51.000000     C  YES\n",
       "8      9          US  50.0000  49.0   60.0  55.000000     C   NO\n",
       "9     10          UK  60.0000  49.0   80.0  70.000000     A  YES\n",
       "10    11       INDIA  75.0000  29.0   45.0  49.666667     C   NO\n",
       "11    12       JAPAN  45.0000  15.0   40.0  33.333333     D  YES\n",
       "12    13       INDIA  47.0000  49.0   85.0  66.000000     B  YES\n",
       "13    14       JAPAN  47.0000  46.0   56.0  49.666667     C  YES\n",
       "14    15       INDIA  54.4375  75.0   80.0  77.500000     A   NO\n",
       "15    16       INDIA  45.0000  56.0   48.0  49.666667     C  YES\n",
       "17    18       INDIA  42.0000  51.0   74.0  55.666667     B  YES"
      ]
     },
     "execution_count": 24,
     "metadata": {},
     "output_type": "execute_result"
    }
   ],
   "source": [
    "newdata=dataset.dropna(how='any')\n",
    "newdata\n"
   ]
  },
  {
   "cell_type": "code",
   "execution_count": 25,
   "metadata": {},
   "outputs": [
    {
     "data": {
      "text/plain": [
       "0     YES\n",
       "1     YES\n",
       "2      NO\n",
       "3     YES\n",
       "4      NO\n",
       "5     YES\n",
       "6     YES\n",
       "7     YES\n",
       "8      NO\n",
       "9     YES\n",
       "10     NO\n",
       "11    YES\n",
       "12    YES\n",
       "13    YES\n",
       "14     NO\n",
       "15    YES\n",
       "16     NO\n",
       "17    YES\n",
       "Name: PG, dtype: object"
      ]
     },
     "execution_count": 25,
     "metadata": {},
     "output_type": "execute_result"
    }
   ],
   "source": [
    "dataset[\"PG\"]=dataset[\"PG\"].fillna(method='ffill')\n",
    "dataset[\"PG\"]"
   ]
  },
  {
   "cell_type": "code",
   "execution_count": 32,
   "metadata": {},
   "outputs": [],
   "source": [
    "import matplotlib.pyplot as plt"
   ]
  },
  {
   "cell_type": "code",
   "execution_count": 26,
   "metadata": {},
   "outputs": [
    {
     "data": {
      "text/html": [
       "<div>\n",
       "<style scoped>\n",
       "    .dataframe tbody tr th:only-of-type {\n",
       "        vertical-align: middle;\n",
       "    }\n",
       "\n",
       "    .dataframe tbody tr th {\n",
       "        vertical-align: top;\n",
       "    }\n",
       "\n",
       "    .dataframe thead th {\n",
       "        text-align: right;\n",
       "    }\n",
       "</style>\n",
       "<table border=\"1\" class=\"dataframe\">\n",
       "  <thead>\n",
       "    <tr style=\"text-align: right;\">\n",
       "      <th></th>\n",
       "      <th>WT</th>\n",
       "      <th>AI</th>\n",
       "      <th>DSBDA</th>\n",
       "    </tr>\n",
       "  </thead>\n",
       "  <tbody>\n",
       "    <tr>\n",
       "      <th>0</th>\n",
       "      <td>72.0000</td>\n",
       "      <td>72.0</td>\n",
       "      <td>74.0</td>\n",
       "    </tr>\n",
       "    <tr>\n",
       "      <th>1</th>\n",
       "      <td>70.0000</td>\n",
       "      <td>69.0</td>\n",
       "      <td>40.0</td>\n",
       "    </tr>\n",
       "    <tr>\n",
       "      <th>2</th>\n",
       "      <td>54.4375</td>\n",
       "      <td>40.0</td>\n",
       "      <td>60.0</td>\n",
       "    </tr>\n",
       "    <tr>\n",
       "      <th>3</th>\n",
       "      <td>50.0000</td>\n",
       "      <td>30.0</td>\n",
       "      <td>NaN</td>\n",
       "    </tr>\n",
       "    <tr>\n",
       "      <th>4</th>\n",
       "      <td>51.0000</td>\n",
       "      <td>52.0</td>\n",
       "      <td>53.0</td>\n",
       "    </tr>\n",
       "    <tr>\n",
       "      <th>5</th>\n",
       "      <td>45.0000</td>\n",
       "      <td>40.0</td>\n",
       "      <td>NaN</td>\n",
       "    </tr>\n",
       "    <tr>\n",
       "      <th>6</th>\n",
       "      <td>75.0000</td>\n",
       "      <td>89.0</td>\n",
       "      <td>56.0</td>\n",
       "    </tr>\n",
       "    <tr>\n",
       "      <th>7</th>\n",
       "      <td>50.0000</td>\n",
       "      <td>47.0</td>\n",
       "      <td>56.0</td>\n",
       "    </tr>\n",
       "    <tr>\n",
       "      <th>8</th>\n",
       "      <td>50.0000</td>\n",
       "      <td>49.0</td>\n",
       "      <td>60.0</td>\n",
       "    </tr>\n",
       "    <tr>\n",
       "      <th>9</th>\n",
       "      <td>60.0000</td>\n",
       "      <td>49.0</td>\n",
       "      <td>80.0</td>\n",
       "    </tr>\n",
       "    <tr>\n",
       "      <th>10</th>\n",
       "      <td>75.0000</td>\n",
       "      <td>29.0</td>\n",
       "      <td>45.0</td>\n",
       "    </tr>\n",
       "    <tr>\n",
       "      <th>11</th>\n",
       "      <td>45.0000</td>\n",
       "      <td>15.0</td>\n",
       "      <td>40.0</td>\n",
       "    </tr>\n",
       "    <tr>\n",
       "      <th>12</th>\n",
       "      <td>47.0000</td>\n",
       "      <td>49.0</td>\n",
       "      <td>85.0</td>\n",
       "    </tr>\n",
       "    <tr>\n",
       "      <th>13</th>\n",
       "      <td>47.0000</td>\n",
       "      <td>46.0</td>\n",
       "      <td>56.0</td>\n",
       "    </tr>\n",
       "    <tr>\n",
       "      <th>14</th>\n",
       "      <td>54.4375</td>\n",
       "      <td>75.0</td>\n",
       "      <td>80.0</td>\n",
       "    </tr>\n",
       "    <tr>\n",
       "      <th>15</th>\n",
       "      <td>45.0000</td>\n",
       "      <td>56.0</td>\n",
       "      <td>48.0</td>\n",
       "    </tr>\n",
       "    <tr>\n",
       "      <th>16</th>\n",
       "      <td>47.0000</td>\n",
       "      <td>49.0</td>\n",
       "      <td>NaN</td>\n",
       "    </tr>\n",
       "    <tr>\n",
       "      <th>17</th>\n",
       "      <td>42.0000</td>\n",
       "      <td>51.0</td>\n",
       "      <td>74.0</td>\n",
       "    </tr>\n",
       "  </tbody>\n",
       "</table>\n",
       "</div>"
      ],
      "text/plain": [
       "         WT    AI  DSBDA\n",
       "0   72.0000  72.0   74.0\n",
       "1   70.0000  69.0   40.0\n",
       "2   54.4375  40.0   60.0\n",
       "3   50.0000  30.0    NaN\n",
       "4   51.0000  52.0   53.0\n",
       "5   45.0000  40.0    NaN\n",
       "6   75.0000  89.0   56.0\n",
       "7   50.0000  47.0   56.0\n",
       "8   50.0000  49.0   60.0\n",
       "9   60.0000  49.0   80.0\n",
       "10  75.0000  29.0   45.0\n",
       "11  45.0000  15.0   40.0\n",
       "12  47.0000  49.0   85.0\n",
       "13  47.0000  46.0   56.0\n",
       "14  54.4375  75.0   80.0\n",
       "15  45.0000  56.0   48.0\n",
       "16  47.0000  49.0    NaN\n",
       "17  42.0000  51.0   74.0"
      ]
     },
     "execution_count": 26,
     "metadata": {},
     "output_type": "execute_result"
    }
   ],
   "source": [
    "dataset.iloc[0:18,2:5]"
   ]
  },
  {
   "cell_type": "code",
   "execution_count": 27,
   "metadata": {},
   "outputs": [
    {
     "name": "stderr",
     "output_type": "stream",
     "text": [
      "Matplotlib is building the font cache; this may take a moment.\n"
     ]
    },
    {
     "data": {
      "text/plain": [
       "<Axes: >"
      ]
     },
     "execution_count": 27,
     "metadata": {},
     "output_type": "execute_result"
    },
    {
     "data": {
      "image/png": "[encoded data removed]",
      "text/plain": [
       "<Figure size 640x480 with 1 Axes>"
      ]
     },
     "metadata": {},
     "output_type": "display_data"
    }
   ],
   "source": [
    "call=[\"WT\",\"AI\",\"DSBDA\"]\n",
    "dataset.boxplot(call)"
   ]
  },
  {
   "cell_type": "code",
   "execution_count": 28,
   "metadata": {},
   "outputs": [
    {
     "name": "stdout",
     "output_type": "stream",
     "text": [
      "(array([6], dtype=int64),)\n"
     ]
    }
   ],
   "source": [
    "print(np.where(dataset['AI']>75 ))"
   ]
  },
  {
   "cell_type": "code",
   "execution_count": 29,
   "metadata": {},
   "outputs": [
    {
     "name": "stdout",
     "output_type": "stream",
     "text": [
      "(array([10], dtype=int64),)\n"
     ]
    }
   ],
   "source": [
    "print(np.where((dataset['WT']>70) & (dataset['AI']<50 )))"
   ]
  },
  {
   "cell_type": "code",
   "execution_count": 30,
   "metadata": {},
   "outputs": [
    {
     "name": "stdout",
     "output_type": "stream",
     "text": [
      "(array([12], dtype=int64),)\n"
     ]
    }
   ],
   "source": [
    "print(np.where(dataset['DSBDA']>80 ))"
   ]
  },
  {
   "cell_type": "code",
   "execution_count": 33,
   "metadata": {},
   "outputs": [
    {
     "data": {
      "image/png": "[encoded data removed]",
      "text/plain": [
       "<Figure size 640x480 with 1 Axes>"
      ]
     },
     "metadata": {},
     "output_type": "display_data"
    },
    {
     "data": {
      "text/plain": [
       "Text(0, 0.5, 'time')"
      ]
     },
     "execution_count": 33,
     "metadata": {},
     "output_type": "execute_result"
    }
   ],
   "source": [
    "x=[1,2,3]\n",
    "y=[2,5,8]\n",
    "plt.scatter(x,y)\n",
    "plt.show()\n",
    "plt.title(\"Plot\",fontsize=10)\n",
    "plt.xlabel(\"day\",fontsize=20)\n",
    "plt.ylabel(\"time\",fontsize=20)"
   ]
  },
  {
   "cell_type": "code",
   "execution_count": 34,
   "metadata": {},
   "outputs": [
    {
     "data": {
      "text/plain": [
       "<matplotlib.collections.PathCollection at 0x1ff7e0c4050>"
      ]
     },
     "execution_count": 34,
     "metadata": {},
     "output_type": "execute_result"
    }
   ],
   "source": [
    "z=range(len(dataset[\"WT\"]))\n",
    "z\n",
    "x=dataset[\"WT\"]\n",
    "y=z\n",
    "plt.scatter(x,y)"
   ]
  },
  {
   "cell_type": "code",
   "execution_count": null,
   "metadata": {},
   "outputs": [],
   "source": [
    "from scipy import stats\n",
    "dataset1=dataset.fillna(dataset.mean())\n",
    "dataset1"
   ]
  },
  {
   "cell_type": "code",
   "execution_count": null,
   "metadata": {},
   "outputs": [],
   "source": [
    "z=np.abs(stats.zscore(dataset1[\"WT\"]))\n",
    "z\n",
    "\n",
    "threshold=0.18\n",
    "sample=np.where(z<threshold)\n",
    "sample"
   ]
  },
  {
   "cell_type": "code",
   "execution_count": 38,
   "metadata": {},
   "outputs": [
    {
     "data": {
      "text/plain": [
       "[15.0,\n",
       " 29.0,\n",
       " 30.0,\n",
       " 40.0,\n",
       " 40.0,\n",
       " 46.0,\n",
       " 47.0,\n",
       " 49.0,\n",
       " 49.0,\n",
       " 49.0,\n",
       " 49.0,\n",
       " 51.0,\n",
       " 52.0,\n",
       " 56.0,\n",
       " 69.0,\n",
       " 72.0,\n",
       " 75.0,\n",
       " 89.0]"
      ]
     },
     "execution_count": 38,
     "metadata": {},
     "output_type": "execute_result"
    }
   ],
   "source": [
    "sort_ai=sorted(dataset[\"AI\"])\n",
    "sort_ai"
   ]
  },
  {
   "cell_type": "code",
   "execution_count": 39,
   "metadata": {},
   "outputs": [
    {
     "data": {
      "text/plain": [
       "[42.0,\n",
       " 45.0,\n",
       " 45.0,\n",
       " 45.0,\n",
       " 47.0,\n",
       " 47.0,\n",
       " 47.0,\n",
       " 50.0,\n",
       " 50.0,\n",
       " 50.0,\n",
       " 51.0,\n",
       " 54.4375,\n",
       " 54.4375,\n",
       " 60.0,\n",
       " 70.0,\n",
       " 72.0,\n",
       " 75.0,\n",
       " 75.0]"
      ]
     },
     "execution_count": 39,
     "metadata": {},
     "output_type": "execute_result"
    }
   ],
   "source": [
    "sort_dsbda=sorted(dataset[\"WT\"])\n",
    "sort_dsbda"
   ]
  },
  {
   "cell_type": "code",
   "execution_count": 40,
   "metadata": {},
   "outputs": [
    {
     "name": "stdout",
     "output_type": "stream",
     "text": [
      "47.0 58.609375\n"
     ]
    },
    {
     "data": {
      "text/plain": [
       "11.609375"
      ]
     },
     "execution_count": 40,
     "metadata": {},
     "output_type": "execute_result"
    }
   ],
   "source": [
    "q1=np.percentile(sort_dsbda,25)\n",
    "q3=np.percentile(sort_dsbda,75)\n",
    "print(q1,q3)\n",
    "iqr=q3-q1\n",
    "iqr"
   ]
  },
  {
   "cell_type": "code",
   "execution_count": 41,
   "metadata": {},
   "outputs": [
    {
     "name": "stdout",
     "output_type": "stream",
     "text": [
      "29.5859375 76.0234375\n"
     ]
    }
   ],
   "source": [
    "lower_bond=q1-(1.5*iqr)\n",
    "upper_bond=q3+(1.5*iqr)\n",
    "print(lower_bond,upper_bond)"
   ]
  },
  {
   "cell_type": "code",
   "execution_count": 42,
   "metadata": {},
   "outputs": [
    {
     "data": {
      "text/plain": [
       "[]"
      ]
     },
     "execution_count": 42,
     "metadata": {},
     "output_type": "execute_result"
    }
   ],
   "source": [
    "r_outlier=[]\n",
    "for i in sort_dsbda:\n",
    "    if((i<lower_bond) or (i>upper_bond)):\n",
    "        r_outlier.append(i)\n",
    "r_outlier"
   ]
  },
  {
   "cell_type": "code",
   "execution_count": null,
   "metadata": {},
   "outputs": [],
   "source": [
    "new_data=dataset\n",
    "\n",
    "for i in sample:\n",
    "    new_data.drop(i,inplace=True)\n",
    "new_data"
   ]
  },
  {
   "cell_type": "code",
   "execution_count": 45,
   "metadata": {},
   "outputs": [
    {
     "data": {
      "text/html": [
       "<div>\n",
       "<style scoped>\n",
       "    .dataframe tbody tr th:only-of-type {\n",
       "        vertical-align: middle;\n",
       "    }\n",
       "\n",
       "    .dataframe tbody tr th {\n",
       "        vertical-align: top;\n",
       "    }\n",
       "\n",
       "    .dataframe thead th {\n",
       "        text-align: right;\n",
       "    }\n",
       "</style>\n",
       "<table border=\"1\" class=\"dataframe\">\n",
       "  <thead>\n",
       "    <tr style=\"text-align: right;\">\n",
       "      <th></th>\n",
       "      <th>Roll</th>\n",
       "      <th>Nationality</th>\n",
       "      <th>WT</th>\n",
       "      <th>AI</th>\n",
       "      <th>DSBDA</th>\n",
       "      <th>AVG</th>\n",
       "      <th>GRADE</th>\n",
       "      <th>PG</th>\n",
       "    </tr>\n",
       "  </thead>\n",
       "  <tbody>\n",
       "    <tr>\n",
       "      <th>0</th>\n",
       "      <td>1</td>\n",
       "      <td>INDIA</td>\n",
       "      <td>72.0000</td>\n",
       "      <td>72.0</td>\n",
       "      <td>74.0</td>\n",
       "      <td>72.666667</td>\n",
       "      <td>A</td>\n",
       "      <td>YES</td>\n",
       "    </tr>\n",
       "    <tr>\n",
       "      <th>1</th>\n",
       "      <td>2</td>\n",
       "      <td>JAPAN</td>\n",
       "      <td>70.0000</td>\n",
       "      <td>69.0</td>\n",
       "      <td>40.0</td>\n",
       "      <td>59.666667</td>\n",
       "      <td>B</td>\n",
       "      <td>YES</td>\n",
       "    </tr>\n",
       "    <tr>\n",
       "      <th>2</th>\n",
       "      <td>3</td>\n",
       "      <td>INDIA</td>\n",
       "      <td>54.4375</td>\n",
       "      <td>40.0</td>\n",
       "      <td>60.0</td>\n",
       "      <td>50.000000</td>\n",
       "      <td>C</td>\n",
       "      <td>NO</td>\n",
       "    </tr>\n",
       "    <tr>\n",
       "      <th>3</th>\n",
       "      <td>4</td>\n",
       "      <td>US</td>\n",
       "      <td>50.0000</td>\n",
       "      <td>30.0</td>\n",
       "      <td>NaN</td>\n",
       "      <td>40.000000</td>\n",
       "      <td>D</td>\n",
       "      <td>YES</td>\n",
       "    </tr>\n",
       "    <tr>\n",
       "      <th>4</th>\n",
       "      <td>5</td>\n",
       "      <td>UK</td>\n",
       "      <td>51.0000</td>\n",
       "      <td>52.0</td>\n",
       "      <td>53.0</td>\n",
       "      <td>52.000000</td>\n",
       "      <td>C</td>\n",
       "      <td>NO</td>\n",
       "    </tr>\n",
       "    <tr>\n",
       "      <th>5</th>\n",
       "      <td>6</td>\n",
       "      <td>INDIA</td>\n",
       "      <td>45.0000</td>\n",
       "      <td>40.0</td>\n",
       "      <td>NaN</td>\n",
       "      <td>42.500000</td>\n",
       "      <td>D</td>\n",
       "      <td>YES</td>\n",
       "    </tr>\n",
       "    <tr>\n",
       "      <th>6</th>\n",
       "      <td>7</td>\n",
       "      <td>JAPAN</td>\n",
       "      <td>75.0000</td>\n",
       "      <td>89.0</td>\n",
       "      <td>56.0</td>\n",
       "      <td>73.333333</td>\n",
       "      <td>A</td>\n",
       "      <td>YES</td>\n",
       "    </tr>\n",
       "    <tr>\n",
       "      <th>7</th>\n",
       "      <td>8</td>\n",
       "      <td>INDIA</td>\n",
       "      <td>50.0000</td>\n",
       "      <td>47.0</td>\n",
       "      <td>56.0</td>\n",
       "      <td>51.000000</td>\n",
       "      <td>C</td>\n",
       "      <td>YES</td>\n",
       "    </tr>\n",
       "    <tr>\n",
       "      <th>8</th>\n",
       "      <td>9</td>\n",
       "      <td>US</td>\n",
       "      <td>50.0000</td>\n",
       "      <td>49.0</td>\n",
       "      <td>60.0</td>\n",
       "      <td>55.000000</td>\n",
       "      <td>C</td>\n",
       "      <td>NO</td>\n",
       "    </tr>\n",
       "    <tr>\n",
       "      <th>9</th>\n",
       "      <td>10</td>\n",
       "      <td>UK</td>\n",
       "      <td>60.0000</td>\n",
       "      <td>49.0</td>\n",
       "      <td>80.0</td>\n",
       "      <td>70.000000</td>\n",
       "      <td>A</td>\n",
       "      <td>YES</td>\n",
       "    </tr>\n",
       "    <tr>\n",
       "      <th>10</th>\n",
       "      <td>11</td>\n",
       "      <td>INDIA</td>\n",
       "      <td>75.0000</td>\n",
       "      <td>29.0</td>\n",
       "      <td>45.0</td>\n",
       "      <td>49.666667</td>\n",
       "      <td>C</td>\n",
       "      <td>NO</td>\n",
       "    </tr>\n",
       "    <tr>\n",
       "      <th>11</th>\n",
       "      <td>12</td>\n",
       "      <td>JAPAN</td>\n",
       "      <td>45.0000</td>\n",
       "      <td>15.0</td>\n",
       "      <td>40.0</td>\n",
       "      <td>33.333333</td>\n",
       "      <td>D</td>\n",
       "      <td>YES</td>\n",
       "    </tr>\n",
       "    <tr>\n",
       "      <th>12</th>\n",
       "      <td>13</td>\n",
       "      <td>INDIA</td>\n",
       "      <td>47.0000</td>\n",
       "      <td>49.0</td>\n",
       "      <td>85.0</td>\n",
       "      <td>66.000000</td>\n",
       "      <td>B</td>\n",
       "      <td>YES</td>\n",
       "    </tr>\n",
       "    <tr>\n",
       "      <th>13</th>\n",
       "      <td>14</td>\n",
       "      <td>JAPAN</td>\n",
       "      <td>47.0000</td>\n",
       "      <td>46.0</td>\n",
       "      <td>56.0</td>\n",
       "      <td>49.666667</td>\n",
       "      <td>C</td>\n",
       "      <td>YES</td>\n",
       "    </tr>\n",
       "    <tr>\n",
       "      <th>14</th>\n",
       "      <td>15</td>\n",
       "      <td>INDIA</td>\n",
       "      <td>54.4375</td>\n",
       "      <td>75.0</td>\n",
       "      <td>80.0</td>\n",
       "      <td>77.500000</td>\n",
       "      <td>A</td>\n",
       "      <td>NO</td>\n",
       "    </tr>\n",
       "    <tr>\n",
       "      <th>15</th>\n",
       "      <td>16</td>\n",
       "      <td>INDIA</td>\n",
       "      <td>45.0000</td>\n",
       "      <td>56.0</td>\n",
       "      <td>48.0</td>\n",
       "      <td>49.666667</td>\n",
       "      <td>C</td>\n",
       "      <td>YES</td>\n",
       "    </tr>\n",
       "    <tr>\n",
       "      <th>16</th>\n",
       "      <td>17</td>\n",
       "      <td>JAPAN</td>\n",
       "      <td>47.0000</td>\n",
       "      <td>49.0</td>\n",
       "      <td>NaN</td>\n",
       "      <td>47.000000</td>\n",
       "      <td>C</td>\n",
       "      <td>NO</td>\n",
       "    </tr>\n",
       "    <tr>\n",
       "      <th>17</th>\n",
       "      <td>18</td>\n",
       "      <td>INDIA</td>\n",
       "      <td>42.0000</td>\n",
       "      <td>51.0</td>\n",
       "      <td>74.0</td>\n",
       "      <td>55.666667</td>\n",
       "      <td>B</td>\n",
       "      <td>YES</td>\n",
       "    </tr>\n",
       "  </tbody>\n",
       "</table>\n",
       "</div>"
      ],
      "text/plain": [
       "    Roll Nationality       WT    AI  DSBDA        AVG GRADE   PG\n",
       "0      1       INDIA  72.0000  72.0   74.0  72.666667     A  YES\n",
       "1      2       JAPAN  70.0000  69.0   40.0  59.666667     B  YES\n",
       "2      3       INDIA  54.4375  40.0   60.0  50.000000     C   NO\n",
       "3      4          US  50.0000  30.0    NaN  40.000000     D  YES\n",
       "4      5          UK  51.0000  52.0   53.0  52.000000     C   NO\n",
       "5      6       INDIA  45.0000  40.0    NaN  42.500000     D  YES\n",
       "6      7       JAPAN  75.0000  89.0   56.0  73.333333     A  YES\n",
       "7      8       INDIA  50.0000  47.0   56.0  51.000000     C  YES\n",
       "8      9          US  50.0000  49.0   60.0  55.000000     C   NO\n",
       "9     10          UK  60.0000  49.0   80.0  70.000000     A  YES\n",
       "10    11       INDIA  75.0000  29.0   45.0  49.666667     C   NO\n",
       "11    12       JAPAN  45.0000  15.0   40.0  33.333333     D  YES\n",
       "12    13       INDIA  47.0000  49.0   85.0  66.000000     B  YES\n",
       "13    14       JAPAN  47.0000  46.0   56.0  49.666667     C  YES\n",
       "14    15       INDIA  54.4375  75.0   80.0  77.500000     A   NO\n",
       "15    16       INDIA  45.0000  56.0   48.0  49.666667     C  YES\n",
       "16    17       JAPAN  47.0000  49.0    NaN  47.000000     C   NO\n",
       "17    18       INDIA  42.0000  51.0   74.0  55.666667     B  YES"
      ]
     },
     "execution_count": 45,
     "metadata": {},
     "output_type": "execute_result"
    }
   ],
   "source": [
    "new_data1=dataset\n",
    "\n",
    "for i in r_outlier:\n",
    "    new_data1.drop(i,inplace=True)\n",
    "new_data1"
   ]
  },
  {
   "cell_type": "code",
   "execution_count": null,
   "metadata": {},
   "outputs": [],
   "source": []
  }
 ],
 "metadata": {
  "kernelspec": {
   "display_name": "Python 3",
   "language": "python",
   "name": "python3"
  },
  "language_info": {
   "codemirror_mode": {
    "name": "ipython",
    "version": 3
   },
   "file_extension": ".py",
   "mimetype": "text/x-python",
   "name": "python",
   "nbconvert_exporter": "python",
   "pygments_lexer": "ipython3",
   "version": "3.12.0"
  }
 },
 "nbformat": 4,
 "nbformat_minor": 2
}
